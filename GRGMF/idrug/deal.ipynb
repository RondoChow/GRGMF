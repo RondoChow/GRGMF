{
 "cells": [
  {
   "cell_type": "code",
   "execution_count": 2,
   "metadata": {
    "collapsed": true
   },
   "outputs": [],
   "source": [
    "import pandas as pd\n",
    "import numpy as np"
   ]
  },
  {
   "cell_type": "code",
   "execution_count": 3,
   "outputs": [],
   "source": [
    "DrugDisease = np.loadtxt('goldDataset/DrugDisease',delimiter=',')\n",
    "DrugTarget = np.loadtxt('goldDataset/DrugTarget', delimiter=',')"
   ],
   "metadata": {
    "collapsed": false,
    "pycharm": {
     "name": "#%%\n"
    }
   }
  },
  {
   "cell_type": "code",
   "execution_count": 6,
   "outputs": [],
   "source": [
    "a = np.loadtxt('goldDataset/DiseaseSimMat')"
   ],
   "metadata": {
    "collapsed": false,
    "pycharm": {
     "name": "#%%\n"
    }
   }
  },
  {
   "cell_type": "code",
   "execution_count": null,
   "outputs": [],
   "source": [
    "Drug_Disease = pd.read_table('rawdata/Drug-Disease Interactions',sep='\\t',names=['DrugBankID','OMIMID'])\n",
    "Drug_Disease.drop(0,inplace=True)"
   ],
   "metadata": {
    "collapsed": false,
    "pycharm": {
     "name": "#%%\n"
    }
   }
  },
  {
   "cell_type": "code",
   "execution_count": 31,
   "outputs": [
    {
     "data": {
      "text/plain": "      DrugBankID UniprotID\n1        DB00091    P49069\n2        DB00091    Q96LZ3\n3        DB00091    P62937\n4        DB00091    P30405\n5        DB00114    Q9BYV1\n...          ...       ...\n10230    DB14185    P11229\n10231    DB14185    P08172\n10232    DB14185    P20309\n10233    DB14185    P08173\n10234    DB14185    P08912\n\n[10234 rows x 2 columns]",
      "text/html": "<div>\n<style scoped>\n    .dataframe tbody tr th:only-of-type {\n        vertical-align: middle;\n    }\n\n    .dataframe tbody tr th {\n        vertical-align: top;\n    }\n\n    .dataframe thead th {\n        text-align: right;\n    }\n</style>\n<table border=\"1\" class=\"dataframe\">\n  <thead>\n    <tr style=\"text-align: right;\">\n      <th></th>\n      <th>DrugBankID</th>\n      <th>UniprotID</th>\n    </tr>\n  </thead>\n  <tbody>\n    <tr>\n      <th>1</th>\n      <td>DB00091</td>\n      <td>P49069</td>\n    </tr>\n    <tr>\n      <th>2</th>\n      <td>DB00091</td>\n      <td>Q96LZ3</td>\n    </tr>\n    <tr>\n      <th>3</th>\n      <td>DB00091</td>\n      <td>P62937</td>\n    </tr>\n    <tr>\n      <th>4</th>\n      <td>DB00091</td>\n      <td>P30405</td>\n    </tr>\n    <tr>\n      <th>5</th>\n      <td>DB00114</td>\n      <td>Q9BYV1</td>\n    </tr>\n    <tr>\n      <th>...</th>\n      <td>...</td>\n      <td>...</td>\n    </tr>\n    <tr>\n      <th>10230</th>\n      <td>DB14185</td>\n      <td>P11229</td>\n    </tr>\n    <tr>\n      <th>10231</th>\n      <td>DB14185</td>\n      <td>P08172</td>\n    </tr>\n    <tr>\n      <th>10232</th>\n      <td>DB14185</td>\n      <td>P20309</td>\n    </tr>\n    <tr>\n      <th>10233</th>\n      <td>DB14185</td>\n      <td>P08173</td>\n    </tr>\n    <tr>\n      <th>10234</th>\n      <td>DB14185</td>\n      <td>P08912</td>\n    </tr>\n  </tbody>\n</table>\n<p>10234 rows × 2 columns</p>\n</div>"
     },
     "execution_count": 31,
     "metadata": {},
     "output_type": "execute_result"
    }
   ],
   "source": [
    "Drug_Target = pd.read_table('rawdata/Drug-Target Interactions',sep='\\t',names=['DrugBankID','UniprotID'])\n",
    "Drug_Target.drop(0,inplace=True)"
   ],
   "metadata": {
    "collapsed": false,
    "pycharm": {
     "name": "#%%\n"
    }
   }
  },
  {
   "cell_type": "code",
   "execution_count": 32,
   "outputs": [],
   "source": [
    "Drug_Disease_Target = Drug_Disease.merge(Drug_Target,on='DrugBankID')\n"
   ],
   "metadata": {
    "collapsed": false,
    "pycharm": {
     "name": "#%%\n"
    }
   }
  },
  {
   "cell_type": "code",
   "execution_count": 33,
   "outputs": [
    {
     "data": {
      "text/plain": "       DrugBankID    OMIMID UniprotID\n0         DB03222  609135.0    P03692\n1         DB03222  609135.0    P06746\n2         DB03222  609135.0    Q08698\n3         DB03222  609135.0    P07071\n4         DB03222  609135.0    Q59560\n...           ...       ...       ...\n905020    DB00909  613254.0    O43570\n905021    DB00909  613254.0    Q8N1Q1\n905022    DB00909  613254.0    Q9ULX7\n905023    DB00909  613254.0    P27338\n905024    DB00909  613254.0    P21397\n\n[905025 rows x 3 columns]",
      "text/html": "<div>\n<style scoped>\n    .dataframe tbody tr th:only-of-type {\n        vertical-align: middle;\n    }\n\n    .dataframe tbody tr th {\n        vertical-align: top;\n    }\n\n    .dataframe thead th {\n        text-align: right;\n    }\n</style>\n<table border=\"1\" class=\"dataframe\">\n  <thead>\n    <tr style=\"text-align: right;\">\n      <th></th>\n      <th>DrugBankID</th>\n      <th>OMIMID</th>\n      <th>UniprotID</th>\n    </tr>\n  </thead>\n  <tbody>\n    <tr>\n      <th>0</th>\n      <td>DB03222</td>\n      <td>609135.0</td>\n      <td>P03692</td>\n    </tr>\n    <tr>\n      <th>1</th>\n      <td>DB03222</td>\n      <td>609135.0</td>\n      <td>P06746</td>\n    </tr>\n    <tr>\n      <th>2</th>\n      <td>DB03222</td>\n      <td>609135.0</td>\n      <td>Q08698</td>\n    </tr>\n    <tr>\n      <th>3</th>\n      <td>DB03222</td>\n      <td>609135.0</td>\n      <td>P07071</td>\n    </tr>\n    <tr>\n      <th>4</th>\n      <td>DB03222</td>\n      <td>609135.0</td>\n      <td>Q59560</td>\n    </tr>\n    <tr>\n      <th>...</th>\n      <td>...</td>\n      <td>...</td>\n      <td>...</td>\n    </tr>\n    <tr>\n      <th>905020</th>\n      <td>DB00909</td>\n      <td>613254.0</td>\n      <td>O43570</td>\n    </tr>\n    <tr>\n      <th>905021</th>\n      <td>DB00909</td>\n      <td>613254.0</td>\n      <td>Q8N1Q1</td>\n    </tr>\n    <tr>\n      <th>905022</th>\n      <td>DB00909</td>\n      <td>613254.0</td>\n      <td>Q9ULX7</td>\n    </tr>\n    <tr>\n      <th>905023</th>\n      <td>DB00909</td>\n      <td>613254.0</td>\n      <td>P27338</td>\n    </tr>\n    <tr>\n      <th>905024</th>\n      <td>DB00909</td>\n      <td>613254.0</td>\n      <td>P21397</td>\n    </tr>\n  </tbody>\n</table>\n<p>905025 rows × 3 columns</p>\n</div>"
     },
     "execution_count": 33,
     "metadata": {},
     "output_type": "execute_result"
    }
   ],
   "source": [
    "Drug_Disease_Target"
   ],
   "metadata": {
    "collapsed": false,
    "pycharm": {
     "name": "#%%\n"
    }
   }
  },
  {
   "cell_type": "code",
   "execution_count": 44,
   "outputs": [],
   "source": [
    "Drug = Drug_Disease_Target['DrugBankID'].explode().unique()\n",
    "Disease = Drug_Disease_Target['OMIMID'].explode().unique()\n",
    "Target = Drug_Disease_Target['UniprotID'].explode().unique()"
   ],
   "metadata": {
    "collapsed": false,
    "pycharm": {
     "name": "#%%\n"
    }
   }
  },
  {
   "cell_type": "code",
   "execution_count": 3,
   "outputs": [
    {
     "data": {
      "text/plain": "array([[1.     , 0.53282, 0.864  , ..., 0.22422, 0.75047, 0.35452],\n       [0.53282, 1.     , 0.49826, ..., 0.29155, 0.67184, 0.32973],\n       [0.864  , 0.49826, 1.     , ..., 0.19531, 0.69898, 0.39048],\n       ...,\n       [0.22422, 0.29155, 0.19531, ..., 1.     , 0.20432, 0.16945],\n       [0.75047, 0.67184, 0.69898, ..., 0.20432, 1.     , 0.36817],\n       [0.35452, 0.32973, 0.39048, ..., 0.16945, 0.36817, 1.     ]])"
     },
     "execution_count": 3,
     "metadata": {},
     "output_type": "execute_result"
    }
   ],
   "source": [
    "np.loadtxt('goldDataset/DrugSimMat2')"
   ],
   "metadata": {
    "collapsed": false,
    "pycharm": {
     "name": "#%%\n"
    }
   }
  },
  {
   "cell_type": "code",
   "execution_count": null,
   "outputs": [],
   "source": [],
   "metadata": {
    "collapsed": false,
    "pycharm": {
     "name": "#%%\n"
    }
   }
  }
 ],
 "metadata": {
  "kernelspec": {
   "display_name": "Python 3",
   "language": "python",
   "name": "python3"
  },
  "language_info": {
   "codemirror_mode": {
    "name": "ipython",
    "version": 2
   },
   "file_extension": ".py",
   "mimetype": "text/x-python",
   "name": "python",
   "nbconvert_exporter": "python",
   "pygments_lexer": "ipython2",
   "version": "2.7.6"
  }
 },
 "nbformat": 4,
 "nbformat_minor": 0
}